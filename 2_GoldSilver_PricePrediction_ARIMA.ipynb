{
  "nbformat": 4,
  "nbformat_minor": 0,
  "metadata": {
    "colab": {
      "name": "2_GoldSilver_PricePrediction_ARIMA.ipynb",
      "provenance": [],
      "authorship_tag": "ABX9TyO8Nk654qJsv6cwKSrYZGZp",
      "include_colab_link": true
    },
    "kernelspec": {
      "name": "python3",
      "display_name": "Python 3"
    },
    "language_info": {
      "name": "python"
    }
  },
  "cells": [
    {
      "cell_type": "markdown",
      "metadata": {
        "id": "view-in-github",
        "colab_type": "text"
      },
      "source": [
        "<a href=\"https://colab.research.google.com/github/BearsOnMars/Coursera_Projects/blob/main/2_GoldSilver_PricePrediction_ARIMA.ipynb\" target=\"_parent\"><img src=\"https://colab.research.google.com/assets/colab-badge.svg\" alt=\"Open In Colab\"/></a>"
      ]
    },
    {
      "cell_type": "markdown",
      "metadata": {
        "id": "xv8jcSIEoQ9k"
      },
      "source": [
        "# Gold & Silver Price prediction using ARIMA\n",
        "Autoregressive Integrated Moving Average"
      ]
    },
    {
      "cell_type": "code",
      "metadata": {
        "id": "WWY_j_zToYIq"
      },
      "source": [
        "# Importing necessary libraries\n",
        "# pandas - data manipulation and analytics\n",
        "# Arima - Forecasting (pmd arima statistical library, used to find values to create model )\n",
        "# matplotlib - data visualisation"
      ],
      "execution_count": null,
      "outputs": []
    },
    {
      "cell_type": "code",
      "metadata": {
        "id": "8t1oIGtyvmB0"
      },
      "source": [
        "!pip install pmdarima"
      ],
      "execution_count": null,
      "outputs": []
    },
    {
      "cell_type": "code",
      "metadata": {
        "id": "p3b1RR-GwAzn"
      },
      "source": [
        "import pandas as pd\n",
        "import matplotlib.pyplot as plt"
      ],
      "execution_count": null,
      "outputs": []
    },
    {
      "cell_type": "markdown",
      "metadata": {
        "id": "M1quPQsVoM6U"
      },
      "source": [
        "# Importing Dataset & Exploring it"
      ]
    },
    {
      "cell_type": "code",
      "metadata": {
        "id": "mC9KUBFOwOl_"
      },
      "source": [
        "# downloading dataset csv from yahoofinance, storing it as df using pandas\n",
        "from google.colab import files \n",
        "files.upload()\n"
      ],
      "execution_count": null,
      "outputs": []
    },
    {
      "cell_type": "code",
      "metadata": {
        "id": "6p__zyei7UbP"
      },
      "source": [
        "df = pd.read_csv('GC=F.csv')"
      ],
      "execution_count": null,
      "outputs": []
    },
    {
      "cell_type": "code",
      "metadata": {
        "id": "LJaRkXoXxU5Y"
      },
      "source": [
        "df"
      ],
      "execution_count": null,
      "outputs": []
    },
    {
      "cell_type": "code",
      "metadata": {
        "colab": {
          "base_uri": "https://localhost:8080/"
        },
        "id": "5Z04FKZMxcn9",
        "outputId": "2cd6baf4-bbb1-4f9f-b6eb-a08e4709cdc5"
      },
      "source": [
        "df.info() # Information about dataset"
      ],
      "execution_count": null,
      "outputs": [
        {
          "output_type": "stream",
          "text": [
            "<class 'pandas.core.frame.DataFrame'>\n",
            "RangeIndex: 1256 entries, 0 to 1255\n",
            "Data columns (total 7 columns):\n",
            " #   Column     Non-Null Count  Dtype  \n",
            "---  ------     --------------  -----  \n",
            " 0   Date       1256 non-null   object \n",
            " 1   Open       1245 non-null   float64\n",
            " 2   High       1245 non-null   float64\n",
            " 3   Low        1245 non-null   float64\n",
            " 4   Close      1245 non-null   float64\n",
            " 5   Adj Close  1245 non-null   float64\n",
            " 6   Volume     1245 non-null   float64\n",
            "dtypes: float64(6), object(1)\n",
            "memory usage: 68.8+ KB\n"
          ],
          "name": "stdout"
        }
      ]
    },
    {
      "cell_type": "code",
      "metadata": {
        "colab": {
          "base_uri": "https://localhost:8080/",
          "height": 295
        },
        "id": "kqOGwr1-xft-",
        "outputId": "ba1a92d4-3114-4d87-fe4f-9b7d509786fd"
      },
      "source": [
        "df.describe() # For descriptive statistics"
      ],
      "execution_count": null,
      "outputs": [
        {
          "output_type": "execute_result",
          "data": {
            "text/html": [
              "<div>\n",
              "<style scoped>\n",
              "    .dataframe tbody tr th:only-of-type {\n",
              "        vertical-align: middle;\n",
              "    }\n",
              "\n",
              "    .dataframe tbody tr th {\n",
              "        vertical-align: top;\n",
              "    }\n",
              "\n",
              "    .dataframe thead th {\n",
              "        text-align: right;\n",
              "    }\n",
              "</style>\n",
              "<table border=\"1\" class=\"dataframe\">\n",
              "  <thead>\n",
              "    <tr style=\"text-align: right;\">\n",
              "      <th></th>\n",
              "      <th>Close</th>\n",
              "    </tr>\n",
              "  </thead>\n",
              "  <tbody>\n",
              "    <tr>\n",
              "      <th>count</th>\n",
              "      <td>1245.000000</td>\n",
              "    </tr>\n",
              "    <tr>\n",
              "      <th>mean</th>\n",
              "      <td>1446.588917</td>\n",
              "    </tr>\n",
              "    <tr>\n",
              "      <th>std</th>\n",
              "      <td>241.947439</td>\n",
              "    </tr>\n",
              "    <tr>\n",
              "      <th>min</th>\n",
              "      <td>1127.800049</td>\n",
              "    </tr>\n",
              "    <tr>\n",
              "      <th>25%</th>\n",
              "      <td>1266.500000</td>\n",
              "    </tr>\n",
              "    <tr>\n",
              "      <th>50%</th>\n",
              "      <td>1324.300049</td>\n",
              "    </tr>\n",
              "    <tr>\n",
              "      <th>75%</th>\n",
              "      <td>1666.400024</td>\n",
              "    </tr>\n",
              "    <tr>\n",
              "      <th>max</th>\n",
              "      <td>2051.500000</td>\n",
              "    </tr>\n",
              "  </tbody>\n",
              "</table>\n",
              "</div>"
            ],
            "text/plain": [
              "             Close\n",
              "count  1245.000000\n",
              "mean   1446.588917\n",
              "std     241.947439\n",
              "min    1127.800049\n",
              "25%    1266.500000\n",
              "50%    1324.300049\n",
              "75%    1666.400024\n",
              "max    2051.500000"
            ]
          },
          "metadata": {
            "tags": []
          },
          "execution_count": 123
        }
      ]
    },
    {
      "cell_type": "code",
      "metadata": {
        "colab": {
          "base_uri": "https://localhost:8080/",
          "height": 337
        },
        "id": "hGqHBGV-xlmC",
        "outputId": "6f85ef42-6ae4-4200-bced-05757d44bc42"
      },
      "source": [
        "# Visualising closing price using matplotlib\n",
        "df['Close'].plot(figsize=(12,5))"
      ],
      "execution_count": null,
      "outputs": [
        {
          "output_type": "execute_result",
          "data": {
            "text/plain": [
              "<matplotlib.axes._subplots.AxesSubplot at 0x7f72805349d0>"
            ]
          },
          "metadata": {
            "tags": []
          },
          "execution_count": 124
        },
        {
          "output_type": "display_data",
          "data": {
            "image/png": "[encoded data removed]",
            "text/plain": [
              "<Figure size 864x360 with 1 Axes>"
            ]
          },
          "metadata": {
            "tags": [],
            "needs_background": "light"
          }
        }
      ]
    },
    {
      "cell_type": "markdown",
      "metadata": {
        "id": "TU0uyziIyDFY"
      },
      "source": [
        "# About ARIMA\n",
        "AR - Autoregression i.e. predicting future values based on past values (p)\n",
        "\n",
        "I - Integrated - Difference (d) for conversion to stationarity\n",
        "\n",
        "MA - Moving Average i.e. predicting based on past errors (q)\n",
        "\n",
        "ARIMA (p,d,q) Simplest model is (1,1,1)\n",
        "\n",
        "p is the number of autoregressive terms\n",
        "\n",
        "d is the number of non-seasonal differences needed for stationarity\n",
        "\n",
        "q is the number of lagged forecast errors\n",
        "\n",
        "using large values of (p,d,q) leads to overfitting and statistical errors\n",
        "\n",
        "so the goal is to find an optimal value for (p,d,q)\n",
        "\n",
        "Stationarity - Constant mean, constant standard deviation, no seasonality, no trend. But real world time series are non-stationary. The I(integrated) in ARIMA converts non-stationary to stationary\n",
        "\n",
        "# with pmdarima we can find the optimal value of (p,d,q)"
      ]
    },
    {
      "cell_type": "code",
      "metadata": {
        "id": "LrZKoAotx61I"
      },
      "source": [
        "# finding order (p,d,q) using auto arima\n",
        "from pmdarima import auto_arima"
      ],
      "execution_count": null,
      "outputs": []
    },
    {
      "cell_type": "code",
      "metadata": {
        "colab": {
          "base_uri": "https://localhost:8080/"
        },
        "id": "t31XRM3E1MzD",
        "outputId": "540e2cca-ce05-407e-9885-f05ca86c2dcf"
      },
      "source": [
        "# need to ensure that there are no null values\n",
        "df=df.dropna()\n",
        "best_order = auto_arima(df['Close'], trace=True)"
      ],
      "execution_count": null,
      "outputs": [
        {
          "output_type": "stream",
          "text": [
            "Performing stepwise search to minimize aic\n",
            " ARIMA(2,1,2)(0,0,0)[0] intercept   : AIC=10183.483, Time=1.28 sec\n",
            " ARIMA(0,1,0)(0,0,0)[0] intercept   : AIC=10179.166, Time=0.05 sec\n",
            " ARIMA(1,1,0)(0,0,0)[0] intercept   : AIC=10180.645, Time=0.15 sec\n",
            " ARIMA(0,1,1)(0,0,0)[0] intercept   : AIC=10180.686, Time=0.24 sec\n",
            " ARIMA(0,1,0)(0,0,0)[0]             : AIC=10177.891, Time=0.07 sec\n",
            " ARIMA(1,1,1)(0,0,0)[0] intercept   : AIC=10181.974, Time=0.53 sec\n",
            "\n",
            "Best model:  ARIMA(0,1,0)(0,0,0)[0]          \n",
            "Total fit time: 2.325 seconds\n"
          ],
          "name": "stdout"
        }
      ]
    },
    {
      "cell_type": "markdown",
      "metadata": {
        "id": "t3h5DHxI2F9D"
      },
      "source": [
        "# Data Preparation - Train Test Split"
      ]
    },
    {
      "cell_type": "code",
      "metadata": {
        "id": "saLNPSLi1q24"
      },
      "source": [
        "columns=['Close']\n",
        "df=pd.DataFrame(df,columns=columns)"
      ],
      "execution_count": null,
      "outputs": []
    },
    {
      "cell_type": "code",
      "metadata": {
        "colab": {
          "base_uri": "https://localhost:8080/",
          "height": 417
        },
        "id": "QO6pQSeU2XiF",
        "outputId": "1362b0d0-d199-4aad-a613-58bfa68079a6"
      },
      "source": [
        "df"
      ],
      "execution_count": null,
      "outputs": [
        {
          "output_type": "execute_result",
          "data": {
            "text/html": [
              "<div>\n",
              "<style scoped>\n",
              "    .dataframe tbody tr th:only-of-type {\n",
              "        vertical-align: middle;\n",
              "    }\n",
              "\n",
              "    .dataframe tbody tr th {\n",
              "        vertical-align: top;\n",
              "    }\n",
              "\n",
              "    .dataframe thead th {\n",
              "        text-align: right;\n",
              "    }\n",
              "</style>\n",
              "<table border=\"1\" class=\"dataframe\">\n",
              "  <thead>\n",
              "    <tr style=\"text-align: right;\">\n",
              "      <th></th>\n",
              "      <th>Close</th>\n",
              "    </tr>\n",
              "  </thead>\n",
              "  <tbody>\n",
              "    <tr>\n",
              "      <th>0</th>\n",
              "      <td>1336.699951</td>\n",
              "    </tr>\n",
              "    <tr>\n",
              "      <th>1</th>\n",
              "      <td>1356.400024</td>\n",
              "    </tr>\n",
              "    <tr>\n",
              "      <th>2</th>\n",
              "      <td>1364.900024</td>\n",
              "    </tr>\n",
              "    <tr>\n",
              "      <th>3</th>\n",
              "      <td>1360.099976</td>\n",
              "    </tr>\n",
              "    <tr>\n",
              "      <th>4</th>\n",
              "      <td>1356.599976</td>\n",
              "    </tr>\n",
              "    <tr>\n",
              "      <th>...</th>\n",
              "      <td>...</td>\n",
              "    </tr>\n",
              "    <tr>\n",
              "      <th>1251</th>\n",
              "      <td>1775.599976</td>\n",
              "    </tr>\n",
              "    <tr>\n",
              "      <th>1252</th>\n",
              "      <td>1776.599976</td>\n",
              "    </tr>\n",
              "    <tr>\n",
              "      <th>1253</th>\n",
              "      <td>1779.599976</td>\n",
              "    </tr>\n",
              "    <tr>\n",
              "      <th>1254</th>\n",
              "      <td>1762.800049</td>\n",
              "    </tr>\n",
              "    <tr>\n",
              "      <th>1255</th>\n",
              "      <td>1770.800049</td>\n",
              "    </tr>\n",
              "  </tbody>\n",
              "</table>\n",
              "<p>1245 rows × 1 columns</p>\n",
              "</div>"
            ],
            "text/plain": [
              "            Close\n",
              "0     1336.699951\n",
              "1     1356.400024\n",
              "2     1364.900024\n",
              "3     1360.099976\n",
              "4     1356.599976\n",
              "...           ...\n",
              "1251  1775.599976\n",
              "1252  1776.599976\n",
              "1253  1779.599976\n",
              "1254  1762.800049\n",
              "1255  1770.800049\n",
              "\n",
              "[1245 rows x 1 columns]"
            ]
          },
          "metadata": {
            "tags": []
          },
          "execution_count": 128
        }
      ]
    },
    {
      "cell_type": "code",
      "metadata": {
        "id": "-PSVLAFm2YeT"
      },
      "source": [
        "# Splitting data in 85:15 (Training:Testing)\n",
        "train, test= df[0:int(len(df)*0.85)], df[int(len(df)*0.85):]"
      ],
      "execution_count": null,
      "outputs": []
    },
    {
      "cell_type": "code",
      "metadata": {
        "colab": {
          "base_uri": "https://localhost:8080/"
        },
        "id": "t2Ir11iE3Lm3",
        "outputId": "185e1c70-f76e-46f5-94cb-f9cbcce5d1d4"
      },
      "source": [
        "train.shape, test.shape"
      ],
      "execution_count": null,
      "outputs": [
        {
          "output_type": "execute_result",
          "data": {
            "text/plain": [
              "((1058, 1), (187, 1))"
            ]
          },
          "metadata": {
            "tags": []
          },
          "execution_count": 130
        }
      ]
    },
    {
      "cell_type": "code",
      "metadata": {
        "colab": {
          "base_uri": "https://localhost:8080/"
        },
        "id": "zaiPD0YD3OQ5",
        "outputId": "7853d414-75af-415c-cc1b-552aae3b1715"
      },
      "source": [
        "df.shape"
      ],
      "execution_count": null,
      "outputs": [
        {
          "output_type": "execute_result",
          "data": {
            "text/plain": [
              "(1245, 1)"
            ]
          },
          "metadata": {
            "tags": []
          },
          "execution_count": 131
        }
      ]
    },
    {
      "cell_type": "markdown",
      "metadata": {
        "id": "3vffJCyA3sLa"
      },
      "source": [
        "# Creating ARIMA Model"
      ]
    },
    {
      "cell_type": "code",
      "metadata": {
        "colab": {
          "base_uri": "https://localhost:8080/",
          "height": 402
        },
        "id": "1urGr-g53TrX",
        "outputId": "fd2aa4d1-b5d1-42e7-d75f-4c45b324ee22"
      },
      "source": [
        "# importing traditional arima model\n",
        "from statsmodels.tsa.arima.model import ARIMA\n",
        "model= ARIMA(train, order=(0,1,0))\n",
        "model = model.fit()\n",
        "model.summary()"
      ],
      "execution_count": 1,
      "outputs": [
        {
          "output_type": "stream",
          "text": [
            "/usr/local/lib/python3.7/dist-packages/statsmodels/tools/_testing.py:19: FutureWarning: pandas.util.testing is deprecated. Use the functions in the public API at pandas.testing instead.\n",
            "  import pandas.util.testing as tm\n"
          ],
          "name": "stderr"
        },
        {
          "output_type": "error",
          "ename": "ModuleNotFoundError",
          "evalue": "ignored",
          "traceback": [
            "\u001b[0;31m---------------------------------------------------------------------------\u001b[0m",
            "\u001b[0;31mModuleNotFoundError\u001b[0m                       Traceback (most recent call last)",
            "\u001b[0;32m<ipython-input-1-b707739bf7e7>\u001b[0m in \u001b[0;36m<module>\u001b[0;34m()\u001b[0m\n\u001b[1;32m      1\u001b[0m \u001b[0;31m# importing traditional arima model\u001b[0m\u001b[0;34m\u001b[0m\u001b[0;34m\u001b[0m\u001b[0;34m\u001b[0m\u001b[0m\n\u001b[0;32m----> 2\u001b[0;31m \u001b[0;32mfrom\u001b[0m \u001b[0mstatsmodels\u001b[0m\u001b[0;34m.\u001b[0m\u001b[0mtsa\u001b[0m\u001b[0;34m.\u001b[0m\u001b[0marima\u001b[0m\u001b[0;34m.\u001b[0m\u001b[0mmodel\u001b[0m \u001b[0;32mimport\u001b[0m \u001b[0mARIMA\u001b[0m\u001b[0;34m\u001b[0m\u001b[0;34m\u001b[0m\u001b[0m\n\u001b[0m\u001b[1;32m      3\u001b[0m \u001b[0mmodel\u001b[0m\u001b[0;34m=\u001b[0m \u001b[0mARIMA\u001b[0m\u001b[0;34m(\u001b[0m\u001b[0mtrain\u001b[0m\u001b[0;34m,\u001b[0m \u001b[0morder\u001b[0m\u001b[0;34m=\u001b[0m\u001b[0;34m(\u001b[0m\u001b[0;36m0\u001b[0m\u001b[0;34m,\u001b[0m\u001b[0;36m1\u001b[0m\u001b[0;34m,\u001b[0m\u001b[0;36m0\u001b[0m\u001b[0;34m)\u001b[0m\u001b[0;34m)\u001b[0m\u001b[0;34m\u001b[0m\u001b[0;34m\u001b[0m\u001b[0m\n\u001b[1;32m      4\u001b[0m \u001b[0mmodel\u001b[0m \u001b[0;34m=\u001b[0m \u001b[0mmodel\u001b[0m\u001b[0;34m.\u001b[0m\u001b[0mfit\u001b[0m\u001b[0;34m(\u001b[0m\u001b[0;34m)\u001b[0m\u001b[0;34m\u001b[0m\u001b[0;34m\u001b[0m\u001b[0m\n\u001b[1;32m      5\u001b[0m \u001b[0mmodel\u001b[0m\u001b[0;34m.\u001b[0m\u001b[0msummary\u001b[0m\u001b[0;34m(\u001b[0m\u001b[0;34m)\u001b[0m\u001b[0;34m\u001b[0m\u001b[0;34m\u001b[0m\u001b[0m\n",
            "\u001b[0;31mModuleNotFoundError\u001b[0m: No module named 'statsmodels.tsa.arima'",
            "",
            "\u001b[0;31m---------------------------------------------------------------------------\u001b[0;32m\nNOTE: If your import is failing due to a missing package, you can\nmanually install dependencies using either !pip or !apt.\n\nTo view examples of installing some common dependencies, click the\n\"Open Examples\" button below.\n\u001b[0;31m---------------------------------------------------------------------------\u001b[0m\n"
          ]
        }
      ]
    },
    {
      "cell_type": "markdown",
      "metadata": {
        "id": "-zaCVZYH5LdJ"
      },
      "source": [
        "# Forecasting"
      ]
    },
    {
      "cell_type": "code",
      "metadata": {
        "colab": {
          "base_uri": "https://localhost:8080/",
          "height": 337
        },
        "id": "n7HAB9kM4G4e",
        "outputId": "1fdce5fe-6ea0-4783-977d-bb4ddc30dfb6"
      },
      "source": [
        "start=len(train)   # Example = y1,y2,y3 > y3-y2,y2-y1 (Total elements is 3 but after using Arima it is 2 > data-1\n",
        "end=len(train)+len(test)-1\n",
        "pred=model.predict(start=start,end=end,typ='levels').rename('ARIMA Predictions')\n",
        "pred.plot(legend=True)\n",
        "test['Close'].plot(legend=True)"
      ],
      "execution_count": null,
      "outputs": [
        {
          "output_type": "stream",
          "text": [
            "/usr/local/lib/python3.7/dist-packages/statsmodels/tsa/base/tsa_model.py:379: ValueWarning: No supported index is available. Prediction results will be given with an integer index beginning at `start`.\n",
            "  ValueWarning)\n"
          ],
          "name": "stderr"
        },
        {
          "output_type": "execute_result",
          "data": {
            "text/plain": [
              "<matplotlib.axes._subplots.AxesSubplot at 0x7f7280375490>"
            ]
          },
          "metadata": {
            "tags": []
          },
          "execution_count": 133
        },
        {
          "output_type": "display_data",
          "data": {
            "image/png": "[encoded data removed]",
            "text/plain": [
              "<Figure size 432x288 with 1 Axes>"
            ]
          },
          "metadata": {
            "tags": [],
            "needs_background": "light"
          }
        }
      ]
    },
    {
      "cell_type": "markdown",
      "metadata": {
        "id": "G1JbMqti8a5i"
      },
      "source": [
        "# Error"
      ]
    },
    {
      "cell_type": "code",
      "metadata": {
        "colab": {
          "base_uri": "https://localhost:8080/"
        },
        "id": "1bGiI_os5OFk",
        "outputId": "60ede4d2-8d3d-4a25-a0f3-f69d4a6af3d4"
      },
      "source": [
        "from sklearn.metrics import mean_squared_error\n",
        "from math import sqrt\n",
        "test.mean()\n",
        "rmse=sqrt(mean_squared_error(pred,test))\n",
        "print(rmse)"
      ],
      "execution_count": null,
      "outputs": [
        {
          "output_type": "stream",
          "text": [
            "92.84705562810208\n"
          ],
          "name": "stdout"
        }
      ]
    },
    {
      "cell_type": "code",
      "metadata": {
        "colab": {
          "base_uri": "https://localhost:8080/",
          "height": 295
        },
        "id": "6t9sECJ65Opn",
        "outputId": "3c2f016d-d505-42ac-9311-188f65b6bd3a"
      },
      "source": [
        "df.describe()"
      ],
      "execution_count": null,
      "outputs": [
        {
          "output_type": "execute_result",
          "data": {
            "text/html": [
              "<div>\n",
              "<style scoped>\n",
              "    .dataframe tbody tr th:only-of-type {\n",
              "        vertical-align: middle;\n",
              "    }\n",
              "\n",
              "    .dataframe tbody tr th {\n",
              "        vertical-align: top;\n",
              "    }\n",
              "\n",
              "    .dataframe thead th {\n",
              "        text-align: right;\n",
              "    }\n",
              "</style>\n",
              "<table border=\"1\" class=\"dataframe\">\n",
              "  <thead>\n",
              "    <tr style=\"text-align: right;\">\n",
              "      <th></th>\n",
              "      <th>Close</th>\n",
              "    </tr>\n",
              "  </thead>\n",
              "  <tbody>\n",
              "    <tr>\n",
              "      <th>count</th>\n",
              "      <td>1245.000000</td>\n",
              "    </tr>\n",
              "    <tr>\n",
              "      <th>mean</th>\n",
              "      <td>1446.588917</td>\n",
              "    </tr>\n",
              "    <tr>\n",
              "      <th>std</th>\n",
              "      <td>241.947439</td>\n",
              "    </tr>\n",
              "    <tr>\n",
              "      <th>min</th>\n",
              "      <td>1127.800049</td>\n",
              "    </tr>\n",
              "    <tr>\n",
              "      <th>25%</th>\n",
              "      <td>1266.500000</td>\n",
              "    </tr>\n",
              "    <tr>\n",
              "      <th>50%</th>\n",
              "      <td>1324.300049</td>\n",
              "    </tr>\n",
              "    <tr>\n",
              "      <th>75%</th>\n",
              "      <td>1666.400024</td>\n",
              "    </tr>\n",
              "    <tr>\n",
              "      <th>max</th>\n",
              "      <td>2051.500000</td>\n",
              "    </tr>\n",
              "  </tbody>\n",
              "</table>\n",
              "</div>"
            ],
            "text/plain": [
              "             Close\n",
              "count  1245.000000\n",
              "mean   1446.588917\n",
              "std     241.947439\n",
              "min    1127.800049\n",
              "25%    1266.500000\n",
              "50%    1324.300049\n",
              "75%    1666.400024\n",
              "max    2051.500000"
            ]
          },
          "metadata": {
            "tags": []
          },
          "execution_count": 135
        }
      ]
    },
    {
      "cell_type": "markdown",
      "metadata": {
        "id": "RpOR3U0h9WY9"
      },
      "source": [
        "# More Forecast Graphs"
      ]
    },
    {
      "cell_type": "code",
      "metadata": {
        "colab": {
          "base_uri": "https://localhost:8080/",
          "height": 337
        },
        "id": "2QRWqejp9Mo-",
        "outputId": "40b921fb-84a6-46d5-b521-74768e72d7ec"
      },
      "source": [
        "start=1\n",
        "end=1245\n",
        "pred=model.predict(start=start, end=end, typ='levels').rename('ARIMA Predictions')\n",
        "pred.plot(legend=True)\n",
        "test['Close'].plot(legend=True)"
      ],
      "execution_count": null,
      "outputs": [
        {
          "output_type": "stream",
          "text": [
            "/usr/local/lib/python3.7/dist-packages/statsmodels/tsa/base/tsa_model.py:379: ValueWarning: No supported index is available. Prediction results will be given with an integer index beginning at `start`.\n",
            "  ValueWarning)\n"
          ],
          "name": "stderr"
        },
        {
          "output_type": "execute_result",
          "data": {
            "text/plain": [
              "<matplotlib.axes._subplots.AxesSubplot at 0x7f728033b090>"
            ]
          },
          "metadata": {
            "tags": []
          },
          "execution_count": 136
        },
        {
          "output_type": "display_data",
          "data": {
            "image/png": "[encoded data removed]",
            "text/plain": [
              "<Figure size 432x288 with 1 Axes>"
            ]
          },
          "metadata": {
            "tags": [],
            "needs_background": "light"
          }
        }
      ]
    },
    {
      "cell_type": "code",
      "metadata": {
        "colab": {
          "base_uri": "https://localhost:8080/",
          "height": 337
        },
        "id": "pLWypJzODtmk",
        "outputId": "eed2a94d-e6df-49c2-87df-ca34adcb1635"
      },
      "source": [
        "start=1\n",
        "end=1245\n",
        "pred=model.predict(start=start, end=end, typ='levels').rename('ARIMA Predictions')\n",
        "pred.plot(legend=True, color='blue', marker='o', linestyle='dashed', label='Predicted Price')\n",
        "test['Close'].plot(legend=True, color='red', label='Actual Price')\n",
        "train['Close'].plot(legend=True, color='green', label='Train data(Historical)')"
      ],
      "execution_count": null,
      "outputs": [
        {
          "output_type": "stream",
          "text": [
            "/usr/local/lib/python3.7/dist-packages/statsmodels/tsa/base/tsa_model.py:379: ValueWarning: No supported index is available. Prediction results will be given with an integer index beginning at `start`.\n",
            "  ValueWarning)\n"
          ],
          "name": "stderr"
        },
        {
          "output_type": "execute_result",
          "data": {
            "text/plain": [
              "<matplotlib.axes._subplots.AxesSubplot at 0x7f7280279210>"
            ]
          },
          "metadata": {
            "tags": []
          },
          "execution_count": 137
        },
        {
          "output_type": "display_data",
          "data": {
            "image/png": "[encoded data removed]",
            "text/plain": [
              "<Figure size 432x288 with 1 Axes>"
            ]
          },
          "metadata": {
            "tags": [],
            "needs_background": "light"
          }
        }
      ]
    },
    {
      "cell_type": "markdown",
      "metadata": {
        "id": "Ow96qc6zFWML"
      },
      "source": [
        "# Forecasting 30 days into the Future"
      ]
    },
    {
      "cell_type": "code",
      "metadata": {
        "colab": {
          "base_uri": "https://localhost:8080/",
          "height": 337
        },
        "id": "EhOQ5mruFHPa",
        "outputId": "cf38ecde-7a88-47fb-f5b1-e58342ac9b75"
      },
      "source": [
        "start=1\n",
        "end=1275\n",
        "pred=model.predict(start=start, end=end, typ='levels').rename('ARIMA Predictions')\n",
        "pred.plot(legend=True, color='blue', marker='o', linestyle='dashed', label='Predicted Price')\n",
        "test['Close'].plot(legend=True, color='red', label='Actual Price')\n",
        "train['Close'].plot(legend=True, color='green', label='Train data(Historical)')"
      ],
      "execution_count": null,
      "outputs": [
        {
          "output_type": "stream",
          "text": [
            "/usr/local/lib/python3.7/dist-packages/statsmodels/tsa/base/tsa_model.py:379: ValueWarning: No supported index is available. Prediction results will be given with an integer index beginning at `start`.\n",
            "  ValueWarning)\n"
          ],
          "name": "stderr"
        },
        {
          "output_type": "execute_result",
          "data": {
            "text/plain": [
              "<matplotlib.axes._subplots.AxesSubplot at 0x7f7280199250>"
            ]
          },
          "metadata": {
            "tags": []
          },
          "execution_count": 138
        },
        {
          "output_type": "display_data",
          "data": {
            "image/png": "[encoded data removed]",
            "text/plain": [
              "<Figure size 432x288 with 1 Axes>"
            ]
          },
          "metadata": {
            "tags": [],
            "needs_background": "light"
          }
        }
      ]
    },
    {
      "cell_type": "markdown",
      "metadata": {
        "id": "wnDyWTekGMrn"
      },
      "source": [
        "# Forecasting for Silver\n",
        "Essentially repeating the same steps as above"
      ]
    },
    {
      "cell_type": "code",
      "metadata": {
        "id": "pqjbHZqTFgED"
      },
      "source": [
        "from google.colab import files \n",
        "files.upload()"
      ],
      "execution_count": null,
      "outputs": []
    },
    {
      "cell_type": "code",
      "metadata": {
        "id": "qJcRmmSkGQPz"
      },
      "source": [
        "df = pd.read_csv('SI=F.csv')"
      ],
      "execution_count": null,
      "outputs": []
    },
    {
      "cell_type": "code",
      "metadata": {
        "colab": {
          "base_uri": "https://localhost:8080/",
          "height": 417
        },
        "id": "Vtya4qUDGrzj",
        "outputId": "8f5a2f6c-75b8-4270-883a-3d3155832d6f"
      },
      "source": [
        "df"
      ],
      "execution_count": null,
      "outputs": [
        {
          "output_type": "execute_result",
          "data": {
            "text/html": [
              "<div>\n",
              "<style scoped>\n",
              "    .dataframe tbody tr th:only-of-type {\n",
              "        vertical-align: middle;\n",
              "    }\n",
              "\n",
              "    .dataframe tbody tr th {\n",
              "        vertical-align: top;\n",
              "    }\n",
              "\n",
              "    .dataframe thead th {\n",
              "        text-align: right;\n",
              "    }\n",
              "</style>\n",
              "<table border=\"1\" class=\"dataframe\">\n",
              "  <thead>\n",
              "    <tr style=\"text-align: right;\">\n",
              "      <th></th>\n",
              "      <th>Date</th>\n",
              "      <th>Open</th>\n",
              "      <th>High</th>\n",
              "      <th>Low</th>\n",
              "      <th>Close</th>\n",
              "      <th>Adj Close</th>\n",
              "      <th>Volume</th>\n",
              "    </tr>\n",
              "  </thead>\n",
              "  <tbody>\n",
              "    <tr>\n",
              "      <th>0</th>\n",
              "      <td>2016-07-01</td>\n",
              "      <td>18.790001</td>\n",
              "      <td>19.924999</td>\n",
              "      <td>18.775000</td>\n",
              "      <td>19.544001</td>\n",
              "      <td>19.544001</td>\n",
              "      <td>1083.0</td>\n",
              "    </tr>\n",
              "    <tr>\n",
              "      <th>1</th>\n",
              "      <td>2016-07-05</td>\n",
              "      <td>19.754999</td>\n",
              "      <td>21.094999</td>\n",
              "      <td>19.625000</td>\n",
              "      <td>19.865999</td>\n",
              "      <td>19.865999</td>\n",
              "      <td>948.0</td>\n",
              "    </tr>\n",
              "    <tr>\n",
              "      <th>2</th>\n",
              "      <td>2016-07-06</td>\n",
              "      <td>20.330000</td>\n",
              "      <td>20.495001</td>\n",
              "      <td>19.945000</td>\n",
              "      <td>20.160000</td>\n",
              "      <td>20.160000</td>\n",
              "      <td>407.0</td>\n",
              "    </tr>\n",
              "    <tr>\n",
              "      <th>3</th>\n",
              "      <td>2016-07-07</td>\n",
              "      <td>20.139999</td>\n",
              "      <td>20.219999</td>\n",
              "      <td>19.530001</td>\n",
              "      <td>19.798000</td>\n",
              "      <td>19.798000</td>\n",
              "      <td>536.0</td>\n",
              "    </tr>\n",
              "    <tr>\n",
              "      <th>4</th>\n",
              "      <td>2016-07-08</td>\n",
              "      <td>19.735001</td>\n",
              "      <td>20.209999</td>\n",
              "      <td>19.400000</td>\n",
              "      <td>20.058001</td>\n",
              "      <td>20.058001</td>\n",
              "      <td>384.0</td>\n",
              "    </tr>\n",
              "    <tr>\n",
              "      <th>...</th>\n",
              "      <td>...</td>\n",
              "      <td>...</td>\n",
              "      <td>...</td>\n",
              "      <td>...</td>\n",
              "      <td>...</td>\n",
              "      <td>...</td>\n",
              "      <td>...</td>\n",
              "    </tr>\n",
              "    <tr>\n",
              "      <th>1251</th>\n",
              "      <td>2021-06-24</td>\n",
              "      <td>26.047001</td>\n",
              "      <td>26.047001</td>\n",
              "      <td>26.047001</td>\n",
              "      <td>26.047001</td>\n",
              "      <td>26.047001</td>\n",
              "      <td>0.0</td>\n",
              "    </tr>\n",
              "    <tr>\n",
              "      <th>1252</th>\n",
              "      <td>2021-06-25</td>\n",
              "      <td>26.174999</td>\n",
              "      <td>26.174999</td>\n",
              "      <td>26.082001</td>\n",
              "      <td>26.082001</td>\n",
              "      <td>26.082001</td>\n",
              "      <td>9.0</td>\n",
              "    </tr>\n",
              "    <tr>\n",
              "      <th>1253</th>\n",
              "      <td>2021-06-28</td>\n",
              "      <td>26.218000</td>\n",
              "      <td>26.218000</td>\n",
              "      <td>26.218000</td>\n",
              "      <td>26.218000</td>\n",
              "      <td>26.218000</td>\n",
              "      <td>42308.0</td>\n",
              "    </tr>\n",
              "    <tr>\n",
              "      <th>1254</th>\n",
              "      <td>2021-06-29</td>\n",
              "      <td>26.200001</td>\n",
              "      <td>26.209999</td>\n",
              "      <td>25.559999</td>\n",
              "      <td>25.872000</td>\n",
              "      <td>25.872000</td>\n",
              "      <td>20140.0</td>\n",
              "    </tr>\n",
              "    <tr>\n",
              "      <th>1255</th>\n",
              "      <td>2021-06-30</td>\n",
              "      <td>25.840000</td>\n",
              "      <td>26.230000</td>\n",
              "      <td>25.840000</td>\n",
              "      <td>26.165001</td>\n",
              "      <td>26.165001</td>\n",
              "      <td>20140.0</td>\n",
              "    </tr>\n",
              "  </tbody>\n",
              "</table>\n",
              "<p>1256 rows × 7 columns</p>\n",
              "</div>"
            ],
            "text/plain": [
              "            Date       Open       High  ...      Close  Adj Close   Volume\n",
              "0     2016-07-01  18.790001  19.924999  ...  19.544001  19.544001   1083.0\n",
              "1     2016-07-05  19.754999  21.094999  ...  19.865999  19.865999    948.0\n",
              "2     2016-07-06  20.330000  20.495001  ...  20.160000  20.160000    407.0\n",
              "3     2016-07-07  20.139999  20.219999  ...  19.798000  19.798000    536.0\n",
              "4     2016-07-08  19.735001  20.209999  ...  20.058001  20.058001    384.0\n",
              "...          ...        ...        ...  ...        ...        ...      ...\n",
              "1251  2021-06-24  26.047001  26.047001  ...  26.047001  26.047001      0.0\n",
              "1252  2021-06-25  26.174999  26.174999  ...  26.082001  26.082001      9.0\n",
              "1253  2021-06-28  26.218000  26.218000  ...  26.218000  26.218000  42308.0\n",
              "1254  2021-06-29  26.200001  26.209999  ...  25.872000  25.872000  20140.0\n",
              "1255  2021-06-30  25.840000  26.230000  ...  26.165001  26.165001  20140.0\n",
              "\n",
              "[1256 rows x 7 columns]"
            ]
          },
          "metadata": {
            "tags": []
          },
          "execution_count": 141
        }
      ]
    },
    {
      "cell_type": "code",
      "metadata": {
        "colab": {
          "base_uri": "https://localhost:8080/"
        },
        "id": "IAbNMDMkGso9",
        "outputId": "5f813d2d-ba03-466b-b457-df6e1c49457d"
      },
      "source": [
        "df.info()"
      ],
      "execution_count": null,
      "outputs": [
        {
          "output_type": "stream",
          "text": [
            "<class 'pandas.core.frame.DataFrame'>\n",
            "RangeIndex: 1256 entries, 0 to 1255\n",
            "Data columns (total 7 columns):\n",
            " #   Column     Non-Null Count  Dtype  \n",
            "---  ------     --------------  -----  \n",
            " 0   Date       1256 non-null   object \n",
            " 1   Open       1245 non-null   float64\n",
            " 2   High       1245 non-null   float64\n",
            " 3   Low        1245 non-null   float64\n",
            " 4   Close      1245 non-null   float64\n",
            " 5   Adj Close  1245 non-null   float64\n",
            " 6   Volume     1245 non-null   float64\n",
            "dtypes: float64(6), object(1)\n",
            "memory usage: 68.8+ KB\n"
          ],
          "name": "stdout"
        }
      ]
    },
    {
      "cell_type": "code",
      "metadata": {
        "colab": {
          "base_uri": "https://localhost:8080/",
          "height": 295
        },
        "id": "d3oNYpNJG4gG",
        "outputId": "c6be7663-b0e5-40be-a5bf-025989362b06"
      },
      "source": [
        "df.describe()"
      ],
      "execution_count": null,
      "outputs": [
        {
          "output_type": "execute_result",
          "data": {
            "text/html": [
              "<div>\n",
              "<style scoped>\n",
              "    .dataframe tbody tr th:only-of-type {\n",
              "        vertical-align: middle;\n",
              "    }\n",
              "\n",
              "    .dataframe tbody tr th {\n",
              "        vertical-align: top;\n",
              "    }\n",
              "\n",
              "    .dataframe thead th {\n",
              "        text-align: right;\n",
              "    }\n",
              "</style>\n",
              "<table border=\"1\" class=\"dataframe\">\n",
              "  <thead>\n",
              "    <tr style=\"text-align: right;\">\n",
              "      <th></th>\n",
              "      <th>Open</th>\n",
              "      <th>High</th>\n",
              "      <th>Low</th>\n",
              "      <th>Close</th>\n",
              "      <th>Adj Close</th>\n",
              "      <th>Volume</th>\n",
              "    </tr>\n",
              "  </thead>\n",
              "  <tbody>\n",
              "    <tr>\n",
              "      <th>count</th>\n",
              "      <td>1245.000000</td>\n",
              "      <td>1245.000000</td>\n",
              "      <td>1245.000000</td>\n",
              "      <td>1245.000000</td>\n",
              "      <td>1245.000000</td>\n",
              "      <td>1245.000000</td>\n",
              "    </tr>\n",
              "    <tr>\n",
              "      <th>mean</th>\n",
              "      <td>18.396284</td>\n",
              "      <td>18.501335</td>\n",
              "      <td>18.279036</td>\n",
              "      <td>18.385138</td>\n",
              "      <td>18.385138</td>\n",
              "      <td>2135.227309</td>\n",
              "    </tr>\n",
              "    <tr>\n",
              "      <th>std</th>\n",
              "      <td>3.909564</td>\n",
              "      <td>3.969227</td>\n",
              "      <td>3.843762</td>\n",
              "      <td>3.908070</td>\n",
              "      <td>3.908070</td>\n",
              "      <td>11967.992417</td>\n",
              "    </tr>\n",
              "    <tr>\n",
              "      <th>min</th>\n",
              "      <td>12.070000</td>\n",
              "      <td>12.205000</td>\n",
              "      <td>11.735000</td>\n",
              "      <td>11.735000</td>\n",
              "      <td>11.735000</td>\n",
              "      <td>0.000000</td>\n",
              "    </tr>\n",
              "    <tr>\n",
              "      <th>25%</th>\n",
              "      <td>15.995000</td>\n",
              "      <td>16.010000</td>\n",
              "      <td>15.870000</td>\n",
              "      <td>15.929000</td>\n",
              "      <td>15.929000</td>\n",
              "      <td>8.000000</td>\n",
              "    </tr>\n",
              "    <tr>\n",
              "      <th>50%</th>\n",
              "      <td>17.030001</td>\n",
              "      <td>17.105000</td>\n",
              "      <td>16.955999</td>\n",
              "      <td>17.032000</td>\n",
              "      <td>17.032000</td>\n",
              "      <td>43.000000</td>\n",
              "    </tr>\n",
              "    <tr>\n",
              "      <th>75%</th>\n",
              "      <td>18.695000</td>\n",
              "      <td>18.815001</td>\n",
              "      <td>18.540001</td>\n",
              "      <td>18.660000</td>\n",
              "      <td>18.660000</td>\n",
              "      <td>155.000000</td>\n",
              "    </tr>\n",
              "    <tr>\n",
              "      <th>max</th>\n",
              "      <td>29.530001</td>\n",
              "      <td>30.160000</td>\n",
              "      <td>28.313999</td>\n",
              "      <td>29.398001</td>\n",
              "      <td>29.398001</td>\n",
              "      <td>131415.000000</td>\n",
              "    </tr>\n",
              "  </tbody>\n",
              "</table>\n",
              "</div>"
            ],
            "text/plain": [
              "              Open         High  ...    Adj Close         Volume\n",
              "count  1245.000000  1245.000000  ...  1245.000000    1245.000000\n",
              "mean     18.396284    18.501335  ...    18.385138    2135.227309\n",
              "std       3.909564     3.969227  ...     3.908070   11967.992417\n",
              "min      12.070000    12.205000  ...    11.735000       0.000000\n",
              "25%      15.995000    16.010000  ...    15.929000       8.000000\n",
              "50%      17.030001    17.105000  ...    17.032000      43.000000\n",
              "75%      18.695000    18.815001  ...    18.660000     155.000000\n",
              "max      29.530001    30.160000  ...    29.398001  131415.000000\n",
              "\n",
              "[8 rows x 6 columns]"
            ]
          },
          "metadata": {
            "tags": []
          },
          "execution_count": 143
        }
      ]
    },
    {
      "cell_type": "code",
      "metadata": {
        "colab": {
          "base_uri": "https://localhost:8080/",
          "height": 337
        },
        "id": "qDBXY32oG639",
        "outputId": "b502f7e4-324a-4638-fcc8-3a4a05056965"
      },
      "source": [
        "df['Close'].plot(figsize=(12,5))"
      ],
      "execution_count": null,
      "outputs": [
        {
          "output_type": "execute_result",
          "data": {
            "text/plain": [
              "<matplotlib.axes._subplots.AxesSubplot at 0x7f7280220650>"
            ]
          },
          "metadata": {
            "tags": []
          },
          "execution_count": 144
        },
        {
          "output_type": "display_data",
          "data": {
            "image/png": "[encoded data removed]",
            "text/plain": [
              "<Figure size 864x360 with 1 Axes>"
            ]
          },
          "metadata": {
            "tags": [],
            "needs_background": "light"
          }
        }
      ]
    },
    {
      "cell_type": "code",
      "metadata": {
        "colab": {
          "base_uri": "https://localhost:8080/"
        },
        "id": "Ht52FpOnG9da",
        "outputId": "2e292ec9-37cb-45b1-89f2-c382b7a5e0e9"
      },
      "source": [
        "from pmdarima import auto_arima\n",
        "df=df.dropna()\n",
        "best_order = auto_arima(df['Close'], trace=True)"
      ],
      "execution_count": null,
      "outputs": [
        {
          "output_type": "stream",
          "text": [
            "Performing stepwise search to minimize aic\n",
            " ARIMA(2,1,2)(0,0,0)[0] intercept   : AIC=1149.115, Time=1.60 sec\n",
            " ARIMA(0,1,0)(0,0,0)[0] intercept   : AIC=1176.529, Time=0.24 sec\n",
            " ARIMA(1,1,0)(0,0,0)[0] intercept   : AIC=1155.277, Time=0.10 sec\n",
            " ARIMA(0,1,1)(0,0,0)[0] intercept   : AIC=1158.168, Time=0.24 sec\n",
            " ARIMA(0,1,0)(0,0,0)[0]             : AIC=1174.763, Time=0.08 sec\n",
            " ARIMA(1,1,2)(0,0,0)[0] intercept   : AIC=1153.002, Time=0.35 sec\n",
            " ARIMA(2,1,1)(0,0,0)[0] intercept   : AIC=1154.169, Time=0.75 sec\n",
            " ARIMA(3,1,2)(0,0,0)[0] intercept   : AIC=1146.723, Time=1.94 sec\n",
            " ARIMA(3,1,1)(0,0,0)[0] intercept   : AIC=1156.180, Time=0.50 sec\n",
            " ARIMA(4,1,2)(0,0,0)[0] intercept   : AIC=1147.742, Time=1.27 sec\n",
            " ARIMA(3,1,3)(0,0,0)[0] intercept   : AIC=1150.143, Time=2.98 sec\n",
            " ARIMA(2,1,3)(0,0,0)[0] intercept   : AIC=1146.866, Time=2.81 sec\n",
            " ARIMA(4,1,1)(0,0,0)[0] intercept   : AIC=1146.684, Time=1.09 sec\n",
            " ARIMA(4,1,0)(0,0,0)[0] intercept   : AIC=1144.739, Time=0.43 sec\n",
            " ARIMA(3,1,0)(0,0,0)[0] intercept   : AIC=1154.137, Time=0.40 sec\n",
            " ARIMA(5,1,0)(0,0,0)[0] intercept   : AIC=1146.720, Time=0.63 sec\n",
            " ARIMA(5,1,1)(0,0,0)[0] intercept   : AIC=1148.363, Time=3.05 sec\n",
            " ARIMA(4,1,0)(0,0,0)[0]             : AIC=1143.055, Time=0.24 sec\n",
            " ARIMA(3,1,0)(0,0,0)[0]             : AIC=1152.402, Time=0.15 sec\n",
            " ARIMA(5,1,0)(0,0,0)[0]             : AIC=1145.039, Time=0.25 sec\n",
            " ARIMA(4,1,1)(0,0,0)[0]             : AIC=1145.008, Time=0.54 sec\n",
            " ARIMA(3,1,1)(0,0,0)[0]             : AIC=1150.592, Time=0.70 sec\n",
            " ARIMA(5,1,1)(0,0,0)[0]             : AIC=1146.696, Time=0.78 sec\n",
            "\n",
            "Best model:  ARIMA(4,1,0)(0,0,0)[0]          \n",
            "Total fit time: 21.145 seconds\n"
          ],
          "name": "stdout"
        }
      ]
    },
    {
      "cell_type": "code",
      "metadata": {
        "colab": {
          "base_uri": "https://localhost:8080/",
          "height": 566
        },
        "id": "mrntGxafHJef",
        "outputId": "48589a30-761d-473f-fcc7-294394c8f2df"
      },
      "source": [
        "columns=['Close']\n",
        "df=pd.DataFrame(df,columns=columns)\n",
        "# Splitting data in 85:15 (Training:Testing)\n",
        "train, test= df[0:int(len(df)*0.85)], df[int(len(df)*0.85):]\n",
        "train.shape, test.shape\n",
        "df.shape\n",
        "# importing traditional arima model\n",
        "from statsmodels.tsa.arima.model import ARIMA\n",
        "model= ARIMA(train, order=(4,1,0))\n",
        "model = model.fit()\n",
        "model.summary()"
      ],
      "execution_count": null,
      "outputs": [
        {
          "output_type": "stream",
          "text": [
            "/usr/local/lib/python3.7/dist-packages/statsmodels/tsa/base/tsa_model.py:579: ValueWarning: An unsupported index was provided and will be ignored when e.g. forecasting.\n",
            "  ' ignored when e.g. forecasting.', ValueWarning)\n",
            "/usr/local/lib/python3.7/dist-packages/statsmodels/tsa/base/tsa_model.py:579: ValueWarning: An unsupported index was provided and will be ignored when e.g. forecasting.\n",
            "  ' ignored when e.g. forecasting.', ValueWarning)\n",
            "/usr/local/lib/python3.7/dist-packages/statsmodels/tsa/base/tsa_model.py:579: ValueWarning: An unsupported index was provided and will be ignored when e.g. forecasting.\n",
            "  ' ignored when e.g. forecasting.', ValueWarning)\n"
          ],
          "name": "stderr"
        },
        {
          "output_type": "execute_result",
          "data": {
            "text/html": [
              "<table class=\"simpletable\">\n",
              "<caption>SARIMAX Results</caption>\n",
              "<tr>\n",
              "  <th>Dep. Variable:</th>         <td>Close</td>      <th>  No. Observations:  </th>   <td>1058</td>  \n",
              "</tr>\n",
              "<tr>\n",
              "  <th>Model:</th>            <td>ARIMA(4, 1, 0)</td>  <th>  Log Likelihood     </th> <td>-321.481</td>\n",
              "</tr>\n",
              "<tr>\n",
              "  <th>Date:</th>            <td>Thu, 01 Jul 2021</td> <th>  AIC                </th>  <td>652.961</td>\n",
              "</tr>\n",
              "<tr>\n",
              "  <th>Time:</th>                <td>12:54:22</td>     <th>  BIC                </th>  <td>677.777</td>\n",
              "</tr>\n",
              "<tr>\n",
              "  <th>Sample:</th>                  <td>0</td>        <th>  HQIC               </th>  <td>662.367</td>\n",
              "</tr>\n",
              "<tr>\n",
              "  <th></th>                      <td> - 1058</td>     <th>                     </th>     <td> </td>   \n",
              "</tr>\n",
              "<tr>\n",
              "  <th>Covariance Type:</th>        <td>opg</td>       <th>                     </th>     <td> </td>   \n",
              "</tr>\n",
              "</table>\n",
              "<table class=\"simpletable\">\n",
              "<tr>\n",
              "     <td></td>       <th>coef</th>     <th>std err</th>      <th>z</th>      <th>P>|z|</th>  <th>[0.025</th>    <th>0.975]</th>  \n",
              "</tr>\n",
              "<tr>\n",
              "  <th>ar.L1</th>  <td>   -0.0556</td> <td>    0.015</td> <td>   -3.651</td> <td> 0.000</td> <td>   -0.086</td> <td>   -0.026</td>\n",
              "</tr>\n",
              "<tr>\n",
              "  <th>ar.L2</th>  <td>    0.1555</td> <td>    0.013</td> <td>   12.173</td> <td> 0.000</td> <td>    0.130</td> <td>    0.181</td>\n",
              "</tr>\n",
              "<tr>\n",
              "  <th>ar.L3</th>  <td>    0.0333</td> <td>    0.014</td> <td>    2.457</td> <td> 0.014</td> <td>    0.007</td> <td>    0.060</td>\n",
              "</tr>\n",
              "<tr>\n",
              "  <th>ar.L4</th>  <td>   -0.1085</td> <td>    0.017</td> <td>   -6.557</td> <td> 0.000</td> <td>   -0.141</td> <td>   -0.076</td>\n",
              "</tr>\n",
              "<tr>\n",
              "  <th>sigma2</th> <td>    0.1076</td> <td>    0.002</td> <td>   65.723</td> <td> 0.000</td> <td>    0.104</td> <td>    0.111</td>\n",
              "</tr>\n",
              "</table>\n",
              "<table class=\"simpletable\">\n",
              "<tr>\n",
              "  <th>Ljung-Box (L1) (Q):</th>     <td>0.09</td> <th>  Jarque-Bera (JB):  </th> <td>12153.39</td>\n",
              "</tr>\n",
              "<tr>\n",
              "  <th>Prob(Q):</th>                <td>0.76</td> <th>  Prob(JB):          </th>   <td>0.00</td>  \n",
              "</tr>\n",
              "<tr>\n",
              "  <th>Heteroskedasticity (H):</th> <td>3.79</td> <th>  Skew:              </th>   <td>-0.93</td> \n",
              "</tr>\n",
              "<tr>\n",
              "  <th>Prob(H) (two-sided):</th>    <td>0.00</td> <th>  Kurtosis:          </th>   <td>19.51</td> \n",
              "</tr>\n",
              "</table><br/><br/>Warnings:<br/>[1] Covariance matrix calculated using the outer product of gradients (complex-step)."
            ],
            "text/plain": [
              "<class 'statsmodels.iolib.summary.Summary'>\n",
              "\"\"\"\n",
              "                               SARIMAX Results                                \n",
              "==============================================================================\n",
              "Dep. Variable:                  Close   No. Observations:                 1058\n",
              "Model:                 ARIMA(4, 1, 0)   Log Likelihood                -321.481\n",
              "Date:                Thu, 01 Jul 2021   AIC                            652.961\n",
              "Time:                        12:54:22   BIC                            677.777\n",
              "Sample:                             0   HQIC                           662.367\n",
              "                               - 1058                                         \n",
              "Covariance Type:                  opg                                         \n",
              "==============================================================================\n",
              "                 coef    std err          z      P>|z|      [0.025      0.975]\n",
              "------------------------------------------------------------------------------\n",
              "ar.L1         -0.0556      0.015     -3.651      0.000      -0.086      -0.026\n",
              "ar.L2          0.1555      0.013     12.173      0.000       0.130       0.181\n",
              "ar.L3          0.0333      0.014      2.457      0.014       0.007       0.060\n",
              "ar.L4         -0.1085      0.017     -6.557      0.000      -0.141      -0.076\n",
              "sigma2         0.1076      0.002     65.723      0.000       0.104       0.111\n",
              "===================================================================================\n",
              "Ljung-Box (L1) (Q):                   0.09   Jarque-Bera (JB):             12153.39\n",
              "Prob(Q):                              0.76   Prob(JB):                         0.00\n",
              "Heteroskedasticity (H):               3.79   Skew:                            -0.93\n",
              "Prob(H) (two-sided):                  0.00   Kurtosis:                        19.51\n",
              "===================================================================================\n",
              "\n",
              "Warnings:\n",
              "[1] Covariance matrix calculated using the outer product of gradients (complex-step).\n",
              "\"\"\""
            ]
          },
          "metadata": {
            "tags": []
          },
          "execution_count": 146
        }
      ]
    },
    {
      "cell_type": "code",
      "metadata": {
        "colab": {
          "base_uri": "https://localhost:8080/",
          "height": 337
        },
        "id": "_zgso5AiImoS",
        "outputId": "28889947-8840-431a-aa05-f3c75a1e94f3"
      },
      "source": [
        "start=len(train)   # Example = y1,y2,y3 > y3-y2,y2-y1 (Total elements is 3 but after using Arima it is 2 > data-1\n",
        "end=len(train)+len(test)-1\n",
        "pred=model.predict(start=start,end=end,typ='levels').rename('ARIMA Silver Predictions')\n",
        "pred.plot(legend=True)\n",
        "test['Close'].plot(legend=True)"
      ],
      "execution_count": null,
      "outputs": [
        {
          "output_type": "stream",
          "text": [
            "/usr/local/lib/python3.7/dist-packages/statsmodels/tsa/base/tsa_model.py:379: ValueWarning: No supported index is available. Prediction results will be given with an integer index beginning at `start`.\n",
            "  ValueWarning)\n"
          ],
          "name": "stderr"
        },
        {
          "output_type": "execute_result",
          "data": {
            "text/plain": [
              "<matplotlib.axes._subplots.AxesSubplot at 0x7f728008cd90>"
            ]
          },
          "metadata": {
            "tags": []
          },
          "execution_count": 147
        },
        {
          "output_type": "display_data",
          "data": {
            "image/png": "[encoded data removed]",
            "text/plain": [
              "<Figure size 432x288 with 1 Axes>"
            ]
          },
          "metadata": {
            "tags": [],
            "needs_background": "light"
          }
        }
      ]
    },
    {
      "cell_type": "code",
      "metadata": {
        "colab": {
          "base_uri": "https://localhost:8080/"
        },
        "id": "XjufnwGDIoDg",
        "outputId": "70586742-cb72-4e88-a1cf-a5666fcfc39b"
      },
      "source": [
        "# Error\n",
        "from sklearn.metrics import mean_squared_error\n",
        "from math import sqrt\n",
        "test.mean()\n",
        "rmse=sqrt(mean_squared_error(pred,test))\n",
        "print(rmse)"
      ],
      "execution_count": null,
      "outputs": [
        {
          "output_type": "stream",
          "text": [
            "1.9655610318432304\n"
          ],
          "name": "stdout"
        }
      ]
    },
    {
      "cell_type": "code",
      "metadata": {
        "colab": {
          "base_uri": "https://localhost:8080/",
          "height": 337
        },
        "id": "c0yI75-EItqW",
        "outputId": "5d5ce091-59f2-4187-ddf8-5a540a2dc9fe"
      },
      "source": [
        "start=1\n",
        "end=1245\n",
        "pred=model.predict(start=start, end=end, typ='levels').rename('ARIMA Silver Predictions')\n",
        "pred.plot(legend=True)\n",
        "test['Close'].plot(legend=True)"
      ],
      "execution_count": null,
      "outputs": [
        {
          "output_type": "stream",
          "text": [
            "/usr/local/lib/python3.7/dist-packages/statsmodels/tsa/base/tsa_model.py:379: ValueWarning: No supported index is available. Prediction results will be given with an integer index beginning at `start`.\n",
            "  ValueWarning)\n"
          ],
          "name": "stderr"
        },
        {
          "output_type": "execute_result",
          "data": {
            "text/plain": [
              "<matplotlib.axes._subplots.AxesSubplot at 0x7f72800c4d10>"
            ]
          },
          "metadata": {
            "tags": []
          },
          "execution_count": 149
        },
        {
          "output_type": "display_data",
          "data": {
            "image/png": "[encoded data removed]",
            "text/plain": [
              "<Figure size 432x288 with 1 Axes>"
            ]
          },
          "metadata": {
            "tags": [],
            "needs_background": "light"
          }
        }
      ]
    },
    {
      "cell_type": "code",
      "metadata": {
        "colab": {
          "base_uri": "https://localhost:8080/",
          "height": 337
        },
        "id": "sx_P_DruIwX6",
        "outputId": "77532c70-2b0a-4fe9-fd3c-1052eb19ede2"
      },
      "source": [
        "start=1\n",
        "end=1245\n",
        "pred=model.predict(start=start, end=end, typ='levels').rename('ARIMA Predictions')\n",
        "pred.plot(legend=True, color='blue', marker='o', linestyle='dashed', label='Predicted Price')\n",
        "test['Close'].plot(legend=True, color='red', label='Silver Price')\n",
        "train['Close'].plot(legend=True, color='green', label='Train data(Historical)')"
      ],
      "execution_count": null,
      "outputs": [
        {
          "output_type": "stream",
          "text": [
            "/usr/local/lib/python3.7/dist-packages/statsmodels/tsa/base/tsa_model.py:379: ValueWarning: No supported index is available. Prediction results will be given with an integer index beginning at `start`.\n",
            "  ValueWarning)\n"
          ],
          "name": "stderr"
        },
        {
          "output_type": "execute_result",
          "data": {
            "text/plain": [
              "<matplotlib.axes._subplots.AxesSubplot at 0x7f727fe4fe50>"
            ]
          },
          "metadata": {
            "tags": []
          },
          "execution_count": 150
        },
        {
          "output_type": "display_data",
          "data": {
            "image/png": "[encoded data removed]",
            "text/plain": [
              "<Figure size 432x288 with 1 Axes>"
            ]
          },
          "metadata": {
            "tags": [],
            "needs_background": "light"
          }
        }
      ]
    },
    {
      "cell_type": "code",
      "metadata": {
        "colab": {
          "base_uri": "https://localhost:8080/",
          "height": 337
        },
        "id": "W-YtCeOnIzz7",
        "outputId": "35d1c069-1ab3-4907-afd2-f4e2c41fdfb0"
      },
      "source": [
        "start=1\n",
        "end=1275\n",
        "pred=model.predict(start=start, end=end, typ='levels').rename('ARIMA Predictions')\n",
        "pred.plot(legend=True, color='blue', marker='o', linestyle='dashed', label='Predicted Silver Price')\n",
        "test['Close'].plot(legend=True, color='red', label='Actual Price')\n",
        "train['Close'].plot(legend=True, color='green', label='Train data(Historical)')"
      ],
      "execution_count": null,
      "outputs": [
        {
          "output_type": "stream",
          "text": [
            "/usr/local/lib/python3.7/dist-packages/statsmodels/tsa/base/tsa_model.py:379: ValueWarning: No supported index is available. Prediction results will be given with an integer index beginning at `start`.\n",
            "  ValueWarning)\n"
          ],
          "name": "stderr"
        },
        {
          "output_type": "execute_result",
          "data": {
            "text/plain": [
              "<matplotlib.axes._subplots.AxesSubplot at 0x7f727ff43250>"
            ]
          },
          "metadata": {
            "tags": []
          },
          "execution_count": 151
        },
        {
          "output_type": "display_data",
          "data": {
            "image/png": "[encoded data removed]",
            "text/plain": [
              "<Figure size 432x288 with 1 Axes>"
            ]
          },
          "metadata": {
            "tags": [],
            "needs_background": "light"
          }
        }
      ]
    },
    {
      "cell_type": "code",
      "metadata": {
        "id": "LCAHu412JE1J"
      },
      "source": [
        ""
      ],
      "execution_count": null,
      "outputs": []
    }
  ]
}